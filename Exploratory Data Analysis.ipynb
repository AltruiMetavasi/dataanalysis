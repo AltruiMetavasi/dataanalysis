{
 "cells": [
  {
   "cell_type": "markdown",
   "metadata": {},
   "source": [
    "**Coursebook: Exploratory Data Analysis**\n",
    "- Part 2 of Practical Data Analysis with Python and SQL\n",
    "- Last Updated: January 2019\n",
    "\n",
    "___\n",
    "\n",
    "- Author: [Samuel Chan](https://github.com/onlyphantom)\n",
    "- Developed by [Algoritma](https://algorit.ma)'s product division and instructors team"
   ]
  },
  {
   "cell_type": "markdown",
   "metadata": {},
   "source": [
    "# Background\n",
    "\n",
    "## Top-Down Approach \n",
    "\n",
    "The coursebook is part of the **Practical Data Analysis with Python and SQL** Specialization offered by [Algoritma](https://algorit.ma). It takes a more accessible approach compared to Algoritma's core educational products, by getting participants to overcome the \"how\" barrier first, rather than a detailed breakdown of the \"why\". \n",
    "\n",
    "This translates to an overall easier learning curve, one where the reader is prompted to write short snippets of code in frequent intervals, before being offered an explanation on the underlying theoretical frameworks. Instead of mastering the syntactic design of the Python programming languages, then moving into data structures, and then the `pandas` library, and then the mathematical details in an imputation algorithm, and its code implementation; we would do the opposite: Implement the imputation, then a succinct explanation of why it works and applicational considerations (what to look out for, what are assumptions it made, when _not_ to use it etc).\n",
    "\n",
    "## Learn-by-Building\n",
    "\n",
    "This coursebook is intended for participants who have completed the preceding courses offered in the **Practical Data Analysis with Python and SQL** Specialization. This is the second course, **Exploratory Data Analysis**\n",
    "\n",
    "The coursebook focuses on:\n",
    "- Why and What: Exploratory Data Analysis\n",
    "- Categorical Data Types  \n",
    "- Date Time objects\n",
    "- Group By Operations\n",
    "\n",
    "The final part of this course is a Graded Asssignment, where you are expected to apply all that you've learned on a new dataset, and attempt the given questions.\n"
   ]
  },
  {
   "cell_type": "markdown",
   "metadata": {},
   "source": [
    "# Data Preparation and Exploration\n",
    "\n",
    "About 60 years ago, John Tukey defined data analysis as the \"procedures for analyzing data, techniques for interpreting the results of such procedures ... and all the machinery of mathematical statistics which apply to analyzing dsta\". His championing of EDA encouraged the development of statsitical computing packages, especially S at Bell Labs (which later inspired R).\n",
    "\n",
    "He wrote a book titled _Exploratory Data Analysis_ arguing that too much emphasis in statistics was placed on hypothesis testing (confirmatory data analysis) while not enough was placed on the discovery of the unexpected. \n",
    "\n",
    "> Exploratory data analysis isolates patterns and features of the data and reveals these forcefully to the analyst.\n",
    "\n",
    "This course aims to present a selection of EDA techniques -- some developed by John Tukey himself -- but with a special emphasis on its application to modern business analytics.\n",
    "\n",
    "In the previous course, we've got our hands on a few common techniques:\n",
    "\n",
    "- `.head()` and `.tail()`\n",
    "- `.describe()`\n",
    "- `.shape` and `.size`\n",
    "- `.axes`\n",
    "- `.dtypes`\n",
    "\n",
    "In the following chapters, we'll expand our EDA toolset with the following additions:  \n",
    "\n",
    "- Tables\n",
    "- Cross-Tables and Aggregates"
   ]
  },
  {
   "cell_type": "code",
   "execution_count": 7,
   "metadata": {},
   "outputs": [],
   "source": [
    "import pandas as pd"
   ]
  },
  {
   "cell_type": "markdown",
   "metadata": {},
   "source": [
    "## Tables\n",
    "\n",
    "One of the simplest EDA toolkit is the frequency table (contingency tables) and cross-tabulation tables. It is highly familiar, convenient, and practical for a wide array of statistical tasks. The simplest form of a table is to display counts of a `categorical` column. Let's start by reading our dataset in; Create a new cell and peek at the first few rows of the data."
   ]
  },
  {
   "cell_type": "code",
   "execution_count": 13,
   "metadata": {},
   "outputs": [
    {
     "data": {
      "text/plain": [
       "(72000, 10)"
      ]
     },
     "execution_count": 13,
     "metadata": {},
     "output_type": "execute_result"
    }
   ],
   "source": [
    "household = pd.read_csv(\"data_input/household.csv\")\n",
    "household.shape"
   ]
  },
  {
   "cell_type": "code",
   "execution_count": 29,
   "metadata": {},
   "outputs": [],
   "source": [
    "## Your code below\n",
    "\n",
    "\n",
    "## -- Solution code"
   ]
  },
  {
   "cell_type": "markdown",
   "metadata": {},
   "source": [
    "In `pandas`, each column of a `DataFrame` is a `Series`. To get the counts of each unique levels in a categorical column, we can use `.value_counts()`. The resulting object is a `Series` and in descending order so that the most frequent element is on top. \n",
    "\n",
    "Try and perform `.value_counts()` on the `format` column, adding either:\n",
    "\n",
    "- `sort=False` as a parameter to prevent any sorting of elements, or\n",
    "- `ascending=True` as a parameter to sort in ascending order instead"
   ]
  },
  {
   "cell_type": "code",
   "execution_count": 40,
   "metadata": {},
   "outputs": [
    {
     "data": {
      "text/plain": [
       "Detergent    36000\n",
       "Sugar        24000\n",
       "Rice         12000\n",
       "Name: sub_category, dtype: int64"
      ]
     },
     "execution_count": 40,
     "metadata": {},
     "output_type": "execute_result"
    }
   ],
   "source": [
    "household.sub_category.value_counts()"
   ]
  },
  {
   "cell_type": "code",
   "execution_count": 41,
   "metadata": {},
   "outputs": [],
   "source": [
    "## Your code below\n",
    "\n",
    "\n",
    "## -- Solution code"
   ]
  },
  {
   "cell_type": "markdown",
   "metadata": {},
   "source": [
    "`crosstab` is a very versatile solution to producing frequency tables on a `DataFrame` object. Its utility really goes further than that but we'll start with a simple use-case.\n",
    "\n",
    "Consider the following code: we use `pd.crosstab()` passing in the values to group by in the rows (`index`) and columns (`columns`) respectively. "
   ]
  },
  {
   "cell_type": "code",
   "execution_count": 69,
   "metadata": {},
   "outputs": [
    {
     "data": {
      "text/html": [
       "<div>\n",
       "<style scoped>\n",
       "    .dataframe tbody tr th:only-of-type {\n",
       "        vertical-align: middle;\n",
       "    }\n",
       "\n",
       "    .dataframe tbody tr th {\n",
       "        vertical-align: top;\n",
       "    }\n",
       "\n",
       "    .dataframe thead th {\n",
       "        text-align: right;\n",
       "    }\n",
       "</style>\n",
       "<table border=\"1\" class=\"dataframe\">\n",
       "  <thead>\n",
       "    <tr style=\"text-align: right;\">\n",
       "      <th>col_0</th>\n",
       "      <th>count</th>\n",
       "    </tr>\n",
       "    <tr>\n",
       "      <th>sub_category</th>\n",
       "      <th></th>\n",
       "    </tr>\n",
       "  </thead>\n",
       "  <tbody>\n",
       "    <tr>\n",
       "      <th>Detergent</th>\n",
       "      <td>36000</td>\n",
       "    </tr>\n",
       "    <tr>\n",
       "      <th>Rice</th>\n",
       "      <td>12000</td>\n",
       "    </tr>\n",
       "    <tr>\n",
       "      <th>Sugar</th>\n",
       "      <td>24000</td>\n",
       "    </tr>\n",
       "  </tbody>\n",
       "</table>\n",
       "</div>"
      ],
      "text/plain": [
       "col_0         count\n",
       "sub_category       \n",
       "Detergent     36000\n",
       "Rice          12000\n",
       "Sugar         24000"
      ]
     },
     "execution_count": 69,
     "metadata": {},
     "output_type": "execute_result"
    }
   ],
   "source": [
    "pd.crosstab(index=household['sub_category'], columns=\"count\")"
   ]
  },
  {
   "cell_type": "markdown",
   "metadata": {},
   "source": [
    "Realize that in the code above, we're setting the row (index) to be `sub_category` and the function will by default compute a frequency table. "
   ]
  },
  {
   "cell_type": "code",
   "execution_count": 42,
   "metadata": {},
   "outputs": [
    {
     "data": {
      "text/html": [
       "<div>\n",
       "<style scoped>\n",
       "    .dataframe tbody tr th:only-of-type {\n",
       "        vertical-align: middle;\n",
       "    }\n",
       "\n",
       "    .dataframe tbody tr th {\n",
       "        vertical-align: top;\n",
       "    }\n",
       "\n",
       "    .dataframe thead th {\n",
       "        text-align: right;\n",
       "    }\n",
       "</style>\n",
       "<table border=\"1\" class=\"dataframe\">\n",
       "  <thead>\n",
       "    <tr style=\"text-align: right;\">\n",
       "      <th>col_0</th>\n",
       "      <th>count</th>\n",
       "    </tr>\n",
       "    <tr>\n",
       "      <th>sub_category</th>\n",
       "      <th></th>\n",
       "    </tr>\n",
       "  </thead>\n",
       "  <tbody>\n",
       "    <tr>\n",
       "      <th>Detergent</th>\n",
       "      <td>0.500000</td>\n",
       "    </tr>\n",
       "    <tr>\n",
       "      <th>Rice</th>\n",
       "      <td>0.166667</td>\n",
       "    </tr>\n",
       "    <tr>\n",
       "      <th>Sugar</th>\n",
       "      <td>0.333333</td>\n",
       "    </tr>\n",
       "  </tbody>\n",
       "</table>\n",
       "</div>"
      ],
      "text/plain": [
       "col_0            count\n",
       "sub_category          \n",
       "Detergent     0.500000\n",
       "Rice          0.166667\n",
       "Sugar         0.333333"
      ]
     },
     "execution_count": 42,
     "metadata": {},
     "output_type": "execute_result"
    }
   ],
   "source": [
    "pd.crosstab(index=household['sub_category'], columns=\"count\", normalize='columns')"
   ]
  },
  {
   "cell_type": "markdown",
   "metadata": {},
   "source": [
    "In the cell above, we set the values to be normalized over each columns, and this will divide each values in place over the sum of all values. This is equivalent to a manual calculation:"
   ]
  },
  {
   "cell_type": "code",
   "execution_count": 70,
   "metadata": {},
   "outputs": [
    {
     "data": {
      "text/html": [
       "<div>\n",
       "<style scoped>\n",
       "    .dataframe tbody tr th:only-of-type {\n",
       "        vertical-align: middle;\n",
       "    }\n",
       "\n",
       "    .dataframe tbody tr th {\n",
       "        vertical-align: top;\n",
       "    }\n",
       "\n",
       "    .dataframe thead th {\n",
       "        text-align: right;\n",
       "    }\n",
       "</style>\n",
       "<table border=\"1\" class=\"dataframe\">\n",
       "  <thead>\n",
       "    <tr style=\"text-align: right;\">\n",
       "      <th>col_0</th>\n",
       "      <th>count</th>\n",
       "    </tr>\n",
       "    <tr>\n",
       "      <th>sub_category</th>\n",
       "      <th></th>\n",
       "    </tr>\n",
       "  </thead>\n",
       "  <tbody>\n",
       "    <tr>\n",
       "      <th>Detergent</th>\n",
       "      <td>0.500000</td>\n",
       "    </tr>\n",
       "    <tr>\n",
       "      <th>Rice</th>\n",
       "      <td>0.166667</td>\n",
       "    </tr>\n",
       "    <tr>\n",
       "      <th>Sugar</th>\n",
       "      <td>0.333333</td>\n",
       "    </tr>\n",
       "  </tbody>\n",
       "</table>\n",
       "</div>"
      ],
      "text/plain": [
       "col_0            count\n",
       "sub_category          \n",
       "Detergent     0.500000\n",
       "Rice          0.166667\n",
       "Sugar         0.333333"
      ]
     },
     "execution_count": 70,
     "metadata": {},
     "output_type": "execute_result"
    }
   ],
   "source": [
    "catego = pd.crosstab(index=household['sub_category'], columns=\"count\")\n",
    "catego / catego.sum()"
   ]
  },
  {
   "cell_type": "markdown",
   "metadata": {},
   "source": [
    "We can also use the same `crosstab` method to compute a cross-tabulation of two factors. In the following cell, the `index` references the sub-category column while the `columns` references the format column:"
   ]
  },
  {
   "cell_type": "code",
   "execution_count": 28,
   "metadata": {},
   "outputs": [
    {
     "data": {
      "text/html": [
       "<div>\n",
       "<style scoped>\n",
       "    .dataframe tbody tr th:only-of-type {\n",
       "        vertical-align: middle;\n",
       "    }\n",
       "\n",
       "    .dataframe tbody tr th {\n",
       "        vertical-align: top;\n",
       "    }\n",
       "\n",
       "    .dataframe thead th {\n",
       "        text-align: right;\n",
       "    }\n",
       "</style>\n",
       "<table border=\"1\" class=\"dataframe\">\n",
       "  <thead>\n",
       "    <tr style=\"text-align: right;\">\n",
       "      <th>format</th>\n",
       "      <th>hypermarket</th>\n",
       "      <th>minimarket</th>\n",
       "      <th>supermarket</th>\n",
       "    </tr>\n",
       "    <tr>\n",
       "      <th>sub_category</th>\n",
       "      <th></th>\n",
       "      <th></th>\n",
       "      <th></th>\n",
       "    </tr>\n",
       "  </thead>\n",
       "  <tbody>\n",
       "    <tr>\n",
       "      <th>Detergent</th>\n",
       "      <td>2611</td>\n",
       "      <td>24345</td>\n",
       "      <td>9044</td>\n",
       "    </tr>\n",
       "    <tr>\n",
       "      <th>Rice</th>\n",
       "      <td>999</td>\n",
       "      <td>7088</td>\n",
       "      <td>3913</td>\n",
       "    </tr>\n",
       "    <tr>\n",
       "      <th>Sugar</th>\n",
       "      <td>1761</td>\n",
       "      <td>15370</td>\n",
       "      <td>6869</td>\n",
       "    </tr>\n",
       "  </tbody>\n",
       "</table>\n",
       "</div>"
      ],
      "text/plain": [
       "format        hypermarket  minimarket  supermarket\n",
       "sub_category                                      \n",
       "Detergent            2611       24345         9044\n",
       "Rice                  999        7088         3913\n",
       "Sugar                1761       15370         6869"
      ]
     },
     "execution_count": 28,
     "metadata": {},
     "output_type": "execute_result"
    }
   ],
   "source": [
    "pd.crosstab(index=household['sub_category'], columns=household['format'])"
   ]
  },
  {
   "cell_type": "markdown",
   "metadata": {},
   "source": [
    "When we add `margins=True` to our method call, then an extra row and column of margins (subtotals) will be included in the output:"
   ]
  },
  {
   "cell_type": "code",
   "execution_count": 81,
   "metadata": {},
   "outputs": [
    {
     "data": {
      "text/html": [
       "<div>\n",
       "<style scoped>\n",
       "    .dataframe tbody tr th:only-of-type {\n",
       "        vertical-align: middle;\n",
       "    }\n",
       "\n",
       "    .dataframe tbody tr th {\n",
       "        vertical-align: top;\n",
       "    }\n",
       "\n",
       "    .dataframe thead th {\n",
       "        text-align: right;\n",
       "    }\n",
       "</style>\n",
       "<table border=\"1\" class=\"dataframe\">\n",
       "  <thead>\n",
       "    <tr style=\"text-align: right;\">\n",
       "      <th>format</th>\n",
       "      <th>hypermarket</th>\n",
       "      <th>minimarket</th>\n",
       "      <th>supermarket</th>\n",
       "      <th>All</th>\n",
       "    </tr>\n",
       "    <tr>\n",
       "      <th>sub_category</th>\n",
       "      <th></th>\n",
       "      <th></th>\n",
       "      <th></th>\n",
       "      <th></th>\n",
       "    </tr>\n",
       "  </thead>\n",
       "  <tbody>\n",
       "    <tr>\n",
       "      <th>Detergent</th>\n",
       "      <td>2611</td>\n",
       "      <td>24345</td>\n",
       "      <td>9044</td>\n",
       "      <td>36000</td>\n",
       "    </tr>\n",
       "    <tr>\n",
       "      <th>Rice</th>\n",
       "      <td>999</td>\n",
       "      <td>7088</td>\n",
       "      <td>3913</td>\n",
       "      <td>12000</td>\n",
       "    </tr>\n",
       "    <tr>\n",
       "      <th>Sugar</th>\n",
       "      <td>1761</td>\n",
       "      <td>15370</td>\n",
       "      <td>6869</td>\n",
       "      <td>24000</td>\n",
       "    </tr>\n",
       "    <tr>\n",
       "      <th>All</th>\n",
       "      <td>5371</td>\n",
       "      <td>46803</td>\n",
       "      <td>19826</td>\n",
       "      <td>72000</td>\n",
       "    </tr>\n",
       "  </tbody>\n",
       "</table>\n",
       "</div>"
      ],
      "text/plain": [
       "format        hypermarket  minimarket  supermarket    All\n",
       "sub_category                                             \n",
       "Detergent            2611       24345         9044  36000\n",
       "Rice                  999        7088         3913  12000\n",
       "Sugar                1761       15370         6869  24000\n",
       "All                  5371       46803        19826  72000"
      ]
     },
     "execution_count": 81,
     "metadata": {},
     "output_type": "execute_result"
    }
   ],
   "source": [
    "pd.crosstab(index=household['sub_category'], \n",
    "            columns=household['format'], \n",
    "            margins=True)"
   ]
  },
  {
   "cell_type": "code",
   "execution_count": 73,
   "metadata": {},
   "outputs": [
    {
     "data": {
      "text/html": [
       "<div>\n",
       "<style scoped>\n",
       "    .dataframe tbody tr th:only-of-type {\n",
       "        vertical-align: middle;\n",
       "    }\n",
       "\n",
       "    .dataframe tbody tr th {\n",
       "        vertical-align: top;\n",
       "    }\n",
       "\n",
       "    .dataframe thead th {\n",
       "        text-align: right;\n",
       "    }\n",
       "</style>\n",
       "<table border=\"1\" class=\"dataframe\">\n",
       "  <thead>\n",
       "    <tr style=\"text-align: right;\">\n",
       "      <th></th>\n",
       "      <th>receipt_id</th>\n",
       "      <th>receipts_item_id</th>\n",
       "      <th>purchase_time</th>\n",
       "      <th>category</th>\n",
       "      <th>sub_category</th>\n",
       "      <th>format</th>\n",
       "      <th>unit_price</th>\n",
       "      <th>discount</th>\n",
       "      <th>quantity</th>\n",
       "      <th>yearmonth</th>\n",
       "    </tr>\n",
       "  </thead>\n",
       "  <tbody>\n",
       "    <tr>\n",
       "      <th>0</th>\n",
       "      <td>9622257</td>\n",
       "      <td>32369294</td>\n",
       "      <td>7/22/2018 21:19</td>\n",
       "      <td>Rice</td>\n",
       "      <td>Rice</td>\n",
       "      <td>supermarket</td>\n",
       "      <td>128000.0</td>\n",
       "      <td>0</td>\n",
       "      <td>1</td>\n",
       "      <td>2018-07</td>\n",
       "    </tr>\n",
       "    <tr>\n",
       "      <th>1</th>\n",
       "      <td>9446359</td>\n",
       "      <td>31885876</td>\n",
       "      <td>7/15/2018 16:17</td>\n",
       "      <td>Rice</td>\n",
       "      <td>Rice</td>\n",
       "      <td>minimarket</td>\n",
       "      <td>102750.0</td>\n",
       "      <td>0</td>\n",
       "      <td>1</td>\n",
       "      <td>2018-07</td>\n",
       "    </tr>\n",
       "    <tr>\n",
       "      <th>2</th>\n",
       "      <td>9470290</td>\n",
       "      <td>31930241</td>\n",
       "      <td>7/15/2018 12:12</td>\n",
       "      <td>Rice</td>\n",
       "      <td>Rice</td>\n",
       "      <td>supermarket</td>\n",
       "      <td>64000.0</td>\n",
       "      <td>0</td>\n",
       "      <td>3</td>\n",
       "      <td>2018-07</td>\n",
       "    </tr>\n",
       "    <tr>\n",
       "      <th>3</th>\n",
       "      <td>9643416</td>\n",
       "      <td>32418582</td>\n",
       "      <td>7/24/2018 8:27</td>\n",
       "      <td>Rice</td>\n",
       "      <td>Rice</td>\n",
       "      <td>minimarket</td>\n",
       "      <td>65000.0</td>\n",
       "      <td>0</td>\n",
       "      <td>1</td>\n",
       "      <td>2018-07</td>\n",
       "    </tr>\n",
       "    <tr>\n",
       "      <th>4</th>\n",
       "      <td>9692093</td>\n",
       "      <td>32561236</td>\n",
       "      <td>7/26/2018 11:28</td>\n",
       "      <td>Rice</td>\n",
       "      <td>Rice</td>\n",
       "      <td>supermarket</td>\n",
       "      <td>124500.0</td>\n",
       "      <td>0</td>\n",
       "      <td>1</td>\n",
       "      <td>2018-07</td>\n",
       "    </tr>\n",
       "  </tbody>\n",
       "</table>\n",
       "</div>"
      ],
      "text/plain": [
       "   receipt_id  receipts_item_id    purchase_time category sub_category  \\\n",
       "0     9622257          32369294  7/22/2018 21:19     Rice         Rice   \n",
       "1     9446359          31885876  7/15/2018 16:17     Rice         Rice   \n",
       "2     9470290          31930241  7/15/2018 12:12     Rice         Rice   \n",
       "3     9643416          32418582   7/24/2018 8:27     Rice         Rice   \n",
       "4     9692093          32561236  7/26/2018 11:28     Rice         Rice   \n",
       "\n",
       "        format  unit_price  discount  quantity yearmonth  \n",
       "0  supermarket    128000.0         0         1   2018-07  \n",
       "1   minimarket    102750.0         0         1   2018-07  \n",
       "2  supermarket     64000.0         0         3   2018-07  \n",
       "3   minimarket     65000.0         0         1   2018-07  \n",
       "4  supermarket    124500.0         0         1   2018-07  "
      ]
     },
     "execution_count": 73,
     "metadata": {},
     "output_type": "execute_result"
    }
   ],
   "source": [
    "household.head()"
   ]
  },
  {
   "cell_type": "markdown",
   "metadata": {},
   "source": [
    "### Aggregation Table\n",
    "\n",
    "In the following cell, we introduced another parameter to perform aggregation on our table. The `aggfunc` parameter when present, required the `values` parameter to be specified as well. `values` is the values to aggregate according to the factors in our index and columns:"
   ]
  },
  {
   "cell_type": "code",
   "execution_count": 88,
   "metadata": {},
   "outputs": [
    {
     "data": {
      "text/html": [
       "<div>\n",
       "<style scoped>\n",
       "    .dataframe tbody tr th:only-of-type {\n",
       "        vertical-align: middle;\n",
       "    }\n",
       "\n",
       "    .dataframe tbody tr th {\n",
       "        vertical-align: top;\n",
       "    }\n",
       "\n",
       "    .dataframe thead th {\n",
       "        text-align: right;\n",
       "    }\n",
       "</style>\n",
       "<table border=\"1\" class=\"dataframe\">\n",
       "  <thead>\n",
       "    <tr style=\"text-align: right;\">\n",
       "      <th>col_0</th>\n",
       "      <th>mean</th>\n",
       "    </tr>\n",
       "    <tr>\n",
       "      <th>sub_category</th>\n",
       "      <th></th>\n",
       "    </tr>\n",
       "  </thead>\n",
       "  <tbody>\n",
       "    <tr>\n",
       "      <th>Detergent</th>\n",
       "      <td>17893.793214</td>\n",
       "    </tr>\n",
       "    <tr>\n",
       "      <th>Rice</th>\n",
       "      <td>70013.146313</td>\n",
       "    </tr>\n",
       "    <tr>\n",
       "      <th>Sugar</th>\n",
       "      <td>12645.066024</td>\n",
       "    </tr>\n",
       "  </tbody>\n",
       "</table>\n",
       "</div>"
      ],
      "text/plain": [
       "col_0                 mean\n",
       "sub_category              \n",
       "Detergent     17893.793214\n",
       "Rice          70013.146313\n",
       "Sugar         12645.066024"
      ]
     },
     "execution_count": 88,
     "metadata": {},
     "output_type": "execute_result"
    }
   ],
   "source": [
    "pd.crosstab(index=household['sub_category'], \n",
    "            columns='mean', \n",
    "            values=household['unit_price'],\n",
    "            aggfunc='mean')"
   ]
  },
  {
   "cell_type": "markdown",
   "metadata": {},
   "source": [
    "#### Knowledge Check\n",
    "\n",
    "Create a cross-tab using `sub_category` as the index (row) and `format` as the column. Fill the values with the median of `unit_price` across each row and column. Add a subtotal to both the row and column.\n",
    "\n",
    "1. On average, Sugar is cheapest at...?\n",
    "2. On average, Detergent is most expensive at...?\n",
    "\n",
    "Create a new cell for your code and answer the questions above."
   ]
  },
  {
   "cell_type": "code",
   "execution_count": 101,
   "metadata": {},
   "outputs": [],
   "source": [
    "## Your code below\n",
    "\n",
    "\n",
    "## -- Solution code"
   ]
  },
  {
   "cell_type": "markdown",
   "metadata": {},
   "source": [
    "Reference answer:\n",
    "\n",
    "```\n",
    "pd.crosstab(index=household['sub_category'], \n",
    "            columns=household['format'], \n",
    "            values=household['unit_price'],\n",
    "            aggfunc='median', margins=True)\n",
    "```"
   ]
  },
  {
   "cell_type": "code",
   "execution_count": 92,
   "metadata": {},
   "outputs": [
    {
     "data": {
      "text/plain": [
       "array(['2018-07', '2018-08', '2018-09', '2018-01', '2018-02', '2018-03',\n",
       "       '2018-04', '2018-05', '2018-06', '2017-10', '2017-11', '2017-12'],\n",
       "      dtype=object)"
      ]
     },
     "execution_count": 92,
     "metadata": {},
     "output_type": "execute_result"
    }
   ],
   "source": [
    "household.yearmonth.unique()"
   ]
  },
  {
   "cell_type": "markdown",
   "metadata": {},
   "source": [
    "### Higher-dimensional Tables\n",
    "\n",
    "If we need to inspect our data in higher resolution, we can create cross-tabulation using more than two factors. This allows us to yield insights on a more granular level yet have our output remain relatively compact and structured:"
   ]
  },
  {
   "cell_type": "code",
   "execution_count": 97,
   "metadata": {},
   "outputs": [
    {
     "data": {
      "text/html": [
       "<div>\n",
       "<style scoped>\n",
       "    .dataframe tbody tr th:only-of-type {\n",
       "        vertical-align: middle;\n",
       "    }\n",
       "\n",
       "    .dataframe tbody tr th {\n",
       "        vertical-align: top;\n",
       "    }\n",
       "\n",
       "    .dataframe thead tr th {\n",
       "        text-align: left;\n",
       "    }\n",
       "\n",
       "    .dataframe thead tr:last-of-type th {\n",
       "        text-align: right;\n",
       "    }\n",
       "</style>\n",
       "<table border=\"1\" class=\"dataframe\">\n",
       "  <thead>\n",
       "    <tr>\n",
       "      <th>format</th>\n",
       "      <th colspan=\"3\" halign=\"left\">hypermarket</th>\n",
       "      <th colspan=\"3\" halign=\"left\">minimarket</th>\n",
       "      <th colspan=\"3\" halign=\"left\">supermarket</th>\n",
       "    </tr>\n",
       "    <tr>\n",
       "      <th>sub_category</th>\n",
       "      <th>Detergent</th>\n",
       "      <th>Rice</th>\n",
       "      <th>Sugar</th>\n",
       "      <th>Detergent</th>\n",
       "      <th>Rice</th>\n",
       "      <th>Sugar</th>\n",
       "      <th>Detergent</th>\n",
       "      <th>Rice</th>\n",
       "      <th>Sugar</th>\n",
       "    </tr>\n",
       "    <tr>\n",
       "      <th>yearmonth</th>\n",
       "      <th></th>\n",
       "      <th></th>\n",
       "      <th></th>\n",
       "      <th></th>\n",
       "      <th></th>\n",
       "      <th></th>\n",
       "      <th></th>\n",
       "      <th></th>\n",
       "      <th></th>\n",
       "    </tr>\n",
       "  </thead>\n",
       "  <tbody>\n",
       "    <tr>\n",
       "      <th>2017-10</th>\n",
       "      <td>17400.0</td>\n",
       "      <td>64000.0</td>\n",
       "      <td>12500.0</td>\n",
       "      <td>16800.0</td>\n",
       "      <td>62500.0</td>\n",
       "      <td>12500.0</td>\n",
       "      <td>16925.0</td>\n",
       "      <td>64000.0</td>\n",
       "      <td>12500.0</td>\n",
       "    </tr>\n",
       "    <tr>\n",
       "      <th>2017-11</th>\n",
       "      <td>16770.0</td>\n",
       "      <td>64000.0</td>\n",
       "      <td>12400.0</td>\n",
       "      <td>16800.0</td>\n",
       "      <td>62500.0</td>\n",
       "      <td>12500.0</td>\n",
       "      <td>16500.0</td>\n",
       "      <td>64000.0</td>\n",
       "      <td>12400.0</td>\n",
       "    </tr>\n",
       "    <tr>\n",
       "      <th>2017-12</th>\n",
       "      <td>17500.0</td>\n",
       "      <td>64000.0</td>\n",
       "      <td>12000.0</td>\n",
       "      <td>16600.0</td>\n",
       "      <td>62500.0</td>\n",
       "      <td>12500.0</td>\n",
       "      <td>16600.0</td>\n",
       "      <td>64000.0</td>\n",
       "      <td>12400.0</td>\n",
       "    </tr>\n",
       "    <tr>\n",
       "      <th>2018-01</th>\n",
       "      <td>16800.0</td>\n",
       "      <td>64000.0</td>\n",
       "      <td>12275.0</td>\n",
       "      <td>16200.0</td>\n",
       "      <td>62500.0</td>\n",
       "      <td>12500.0</td>\n",
       "      <td>16700.0</td>\n",
       "      <td>64000.0</td>\n",
       "      <td>12400.0</td>\n",
       "    </tr>\n",
       "    <tr>\n",
       "      <th>2018-02</th>\n",
       "      <td>17500.0</td>\n",
       "      <td>64000.0</td>\n",
       "      <td>11990.0</td>\n",
       "      <td>17000.0</td>\n",
       "      <td>63500.0</td>\n",
       "      <td>12500.0</td>\n",
       "      <td>16200.0</td>\n",
       "      <td>64000.0</td>\n",
       "      <td>12290.0</td>\n",
       "    </tr>\n",
       "    <tr>\n",
       "      <th>2018-03</th>\n",
       "      <td>16900.0</td>\n",
       "      <td>64000.0</td>\n",
       "      <td>12000.0</td>\n",
       "      <td>16300.0</td>\n",
       "      <td>63500.0</td>\n",
       "      <td>12500.0</td>\n",
       "      <td>15680.0</td>\n",
       "      <td>64000.0</td>\n",
       "      <td>12400.0</td>\n",
       "    </tr>\n",
       "    <tr>\n",
       "      <th>2018-04</th>\n",
       "      <td>16815.0</td>\n",
       "      <td>64000.0</td>\n",
       "      <td>11990.0</td>\n",
       "      <td>16800.0</td>\n",
       "      <td>63500.0</td>\n",
       "      <td>12500.0</td>\n",
       "      <td>15700.0</td>\n",
       "      <td>64000.0</td>\n",
       "      <td>12400.0</td>\n",
       "    </tr>\n",
       "    <tr>\n",
       "      <th>2018-05</th>\n",
       "      <td>16950.0</td>\n",
       "      <td>64000.0</td>\n",
       "      <td>12000.0</td>\n",
       "      <td>16800.0</td>\n",
       "      <td>63000.0</td>\n",
       "      <td>12500.0</td>\n",
       "      <td>16700.0</td>\n",
       "      <td>64000.0</td>\n",
       "      <td>12400.0</td>\n",
       "    </tr>\n",
       "    <tr>\n",
       "      <th>2018-06</th>\n",
       "      <td>16550.0</td>\n",
       "      <td>64000.0</td>\n",
       "      <td>12300.0</td>\n",
       "      <td>17300.0</td>\n",
       "      <td>63500.0</td>\n",
       "      <td>12500.0</td>\n",
       "      <td>16700.0</td>\n",
       "      <td>64000.0</td>\n",
       "      <td>12400.0</td>\n",
       "    </tr>\n",
       "    <tr>\n",
       "      <th>2018-07</th>\n",
       "      <td>16550.0</td>\n",
       "      <td>64000.0</td>\n",
       "      <td>12325.0</td>\n",
       "      <td>16800.0</td>\n",
       "      <td>63500.0</td>\n",
       "      <td>12500.0</td>\n",
       "      <td>16600.0</td>\n",
       "      <td>64000.0</td>\n",
       "      <td>12300.0</td>\n",
       "    </tr>\n",
       "    <tr>\n",
       "      <th>2018-08</th>\n",
       "      <td>16839.0</td>\n",
       "      <td>62600.0</td>\n",
       "      <td>12000.0</td>\n",
       "      <td>17500.0</td>\n",
       "      <td>62500.0</td>\n",
       "      <td>12500.0</td>\n",
       "      <td>17000.0</td>\n",
       "      <td>64000.0</td>\n",
       "      <td>12300.0</td>\n",
       "    </tr>\n",
       "    <tr>\n",
       "      <th>2018-09</th>\n",
       "      <td>16720.0</td>\n",
       "      <td>60000.0</td>\n",
       "      <td>11900.0</td>\n",
       "      <td>16900.0</td>\n",
       "      <td>62500.0</td>\n",
       "      <td>12500.0</td>\n",
       "      <td>16990.0</td>\n",
       "      <td>62550.0</td>\n",
       "      <td>12300.0</td>\n",
       "    </tr>\n",
       "  </tbody>\n",
       "</table>\n",
       "</div>"
      ],
      "text/plain": [
       "format       hypermarket                   minimarket                    \\\n",
       "sub_category   Detergent     Rice    Sugar  Detergent     Rice    Sugar   \n",
       "yearmonth                                                                 \n",
       "2017-10          17400.0  64000.0  12500.0    16800.0  62500.0  12500.0   \n",
       "2017-11          16770.0  64000.0  12400.0    16800.0  62500.0  12500.0   \n",
       "2017-12          17500.0  64000.0  12000.0    16600.0  62500.0  12500.0   \n",
       "2018-01          16800.0  64000.0  12275.0    16200.0  62500.0  12500.0   \n",
       "2018-02          17500.0  64000.0  11990.0    17000.0  63500.0  12500.0   \n",
       "2018-03          16900.0  64000.0  12000.0    16300.0  63500.0  12500.0   \n",
       "2018-04          16815.0  64000.0  11990.0    16800.0  63500.0  12500.0   \n",
       "2018-05          16950.0  64000.0  12000.0    16800.0  63000.0  12500.0   \n",
       "2018-06          16550.0  64000.0  12300.0    17300.0  63500.0  12500.0   \n",
       "2018-07          16550.0  64000.0  12325.0    16800.0  63500.0  12500.0   \n",
       "2018-08          16839.0  62600.0  12000.0    17500.0  62500.0  12500.0   \n",
       "2018-09          16720.0  60000.0  11900.0    16900.0  62500.0  12500.0   \n",
       "\n",
       "format       supermarket                    \n",
       "sub_category   Detergent     Rice    Sugar  \n",
       "yearmonth                                   \n",
       "2017-10          16925.0  64000.0  12500.0  \n",
       "2017-11          16500.0  64000.0  12400.0  \n",
       "2017-12          16600.0  64000.0  12400.0  \n",
       "2018-01          16700.0  64000.0  12400.0  \n",
       "2018-02          16200.0  64000.0  12290.0  \n",
       "2018-03          15680.0  64000.0  12400.0  \n",
       "2018-04          15700.0  64000.0  12400.0  \n",
       "2018-05          16700.0  64000.0  12400.0  \n",
       "2018-06          16700.0  64000.0  12400.0  \n",
       "2018-07          16600.0  64000.0  12300.0  \n",
       "2018-08          17000.0  64000.0  12300.0  \n",
       "2018-09          16990.0  62550.0  12300.0  "
      ]
     },
     "execution_count": 97,
     "metadata": {},
     "output_type": "execute_result"
    }
   ],
   "source": [
    "pd.crosstab(index=household['yearmonth'], \n",
    "            columns=[household['format'], household['sub_category']], \n",
    "            values=household['unit_price'],\n",
    "            aggfunc='median')"
   ]
  },
  {
   "cell_type": "markdown",
   "metadata": {},
   "source": [
    "## Pivot Tables\n",
    "\n",
    "If our data is already in a `DataFrame` format, using `pd.pivot_table` can sometimes be more convenient compared to a `pd.crosstab`. We create a `pivot_table` by passing in the following:\n",
    "- `data`: our `DataFrame`\n",
    "- `index`: the column to be used as rows\n",
    "- `columns`: the column to be used as columns\n",
    "- `values`: the values used to fill in the table\n",
    "- `aggfunc`: the aggregation function"
   ]
  },
  {
   "cell_type": "code",
   "execution_count": 120,
   "metadata": {},
   "outputs": [
    {
     "data": {
      "text/html": [
       "<div>\n",
       "<style scoped>\n",
       "    .dataframe tbody tr th:only-of-type {\n",
       "        vertical-align: middle;\n",
       "    }\n",
       "\n",
       "    .dataframe tbody tr th {\n",
       "        vertical-align: top;\n",
       "    }\n",
       "\n",
       "    .dataframe thead tr th {\n",
       "        text-align: left;\n",
       "    }\n",
       "\n",
       "    .dataframe thead tr:last-of-type th {\n",
       "        text-align: right;\n",
       "    }\n",
       "</style>\n",
       "<table border=\"1\" class=\"dataframe\">\n",
       "  <thead>\n",
       "    <tr>\n",
       "      <th>format</th>\n",
       "      <th colspan=\"3\" halign=\"left\">hypermarket</th>\n",
       "      <th colspan=\"3\" halign=\"left\">minimarket</th>\n",
       "      <th colspan=\"3\" halign=\"left\">supermarket</th>\n",
       "    </tr>\n",
       "    <tr>\n",
       "      <th>sub_category</th>\n",
       "      <th>Detergent</th>\n",
       "      <th>Rice</th>\n",
       "      <th>Sugar</th>\n",
       "      <th>Detergent</th>\n",
       "      <th>Rice</th>\n",
       "      <th>Sugar</th>\n",
       "      <th>Detergent</th>\n",
       "      <th>Rice</th>\n",
       "      <th>Sugar</th>\n",
       "    </tr>\n",
       "    <tr>\n",
       "      <th>yearmonth</th>\n",
       "      <th></th>\n",
       "      <th></th>\n",
       "      <th></th>\n",
       "      <th></th>\n",
       "      <th></th>\n",
       "      <th></th>\n",
       "      <th></th>\n",
       "      <th></th>\n",
       "      <th></th>\n",
       "    </tr>\n",
       "  </thead>\n",
       "  <tbody>\n",
       "    <tr>\n",
       "      <th>2017-10</th>\n",
       "      <td>17400.0</td>\n",
       "      <td>64000.0</td>\n",
       "      <td>12500.0</td>\n",
       "      <td>16800.0</td>\n",
       "      <td>62500.0</td>\n",
       "      <td>12500.0</td>\n",
       "      <td>16925.0</td>\n",
       "      <td>64000.0</td>\n",
       "      <td>12500.0</td>\n",
       "    </tr>\n",
       "    <tr>\n",
       "      <th>2017-11</th>\n",
       "      <td>16770.0</td>\n",
       "      <td>64000.0</td>\n",
       "      <td>12400.0</td>\n",
       "      <td>16800.0</td>\n",
       "      <td>62500.0</td>\n",
       "      <td>12500.0</td>\n",
       "      <td>16500.0</td>\n",
       "      <td>64000.0</td>\n",
       "      <td>12400.0</td>\n",
       "    </tr>\n",
       "    <tr>\n",
       "      <th>2017-12</th>\n",
       "      <td>17500.0</td>\n",
       "      <td>64000.0</td>\n",
       "      <td>12000.0</td>\n",
       "      <td>16600.0</td>\n",
       "      <td>62500.0</td>\n",
       "      <td>12500.0</td>\n",
       "      <td>16600.0</td>\n",
       "      <td>64000.0</td>\n",
       "      <td>12400.0</td>\n",
       "    </tr>\n",
       "    <tr>\n",
       "      <th>2018-01</th>\n",
       "      <td>16800.0</td>\n",
       "      <td>64000.0</td>\n",
       "      <td>12275.0</td>\n",
       "      <td>16200.0</td>\n",
       "      <td>62500.0</td>\n",
       "      <td>12500.0</td>\n",
       "      <td>16700.0</td>\n",
       "      <td>64000.0</td>\n",
       "      <td>12400.0</td>\n",
       "    </tr>\n",
       "    <tr>\n",
       "      <th>2018-02</th>\n",
       "      <td>17500.0</td>\n",
       "      <td>64000.0</td>\n",
       "      <td>11990.0</td>\n",
       "      <td>17000.0</td>\n",
       "      <td>63500.0</td>\n",
       "      <td>12500.0</td>\n",
       "      <td>16200.0</td>\n",
       "      <td>64000.0</td>\n",
       "      <td>12290.0</td>\n",
       "    </tr>\n",
       "    <tr>\n",
       "      <th>2018-03</th>\n",
       "      <td>16900.0</td>\n",
       "      <td>64000.0</td>\n",
       "      <td>12000.0</td>\n",
       "      <td>16300.0</td>\n",
       "      <td>63500.0</td>\n",
       "      <td>12500.0</td>\n",
       "      <td>15680.0</td>\n",
       "      <td>64000.0</td>\n",
       "      <td>12400.0</td>\n",
       "    </tr>\n",
       "    <tr>\n",
       "      <th>2018-04</th>\n",
       "      <td>16815.0</td>\n",
       "      <td>64000.0</td>\n",
       "      <td>11990.0</td>\n",
       "      <td>16800.0</td>\n",
       "      <td>63500.0</td>\n",
       "      <td>12500.0</td>\n",
       "      <td>15700.0</td>\n",
       "      <td>64000.0</td>\n",
       "      <td>12400.0</td>\n",
       "    </tr>\n",
       "    <tr>\n",
       "      <th>2018-05</th>\n",
       "      <td>16950.0</td>\n",
       "      <td>64000.0</td>\n",
       "      <td>12000.0</td>\n",
       "      <td>16800.0</td>\n",
       "      <td>63000.0</td>\n",
       "      <td>12500.0</td>\n",
       "      <td>16700.0</td>\n",
       "      <td>64000.0</td>\n",
       "      <td>12400.0</td>\n",
       "    </tr>\n",
       "    <tr>\n",
       "      <th>2018-06</th>\n",
       "      <td>16550.0</td>\n",
       "      <td>64000.0</td>\n",
       "      <td>12300.0</td>\n",
       "      <td>17300.0</td>\n",
       "      <td>63500.0</td>\n",
       "      <td>12500.0</td>\n",
       "      <td>16700.0</td>\n",
       "      <td>64000.0</td>\n",
       "      <td>12400.0</td>\n",
       "    </tr>\n",
       "    <tr>\n",
       "      <th>2018-07</th>\n",
       "      <td>16550.0</td>\n",
       "      <td>64000.0</td>\n",
       "      <td>12325.0</td>\n",
       "      <td>16800.0</td>\n",
       "      <td>63500.0</td>\n",
       "      <td>12500.0</td>\n",
       "      <td>16600.0</td>\n",
       "      <td>64000.0</td>\n",
       "      <td>12300.0</td>\n",
       "    </tr>\n",
       "    <tr>\n",
       "      <th>2018-08</th>\n",
       "      <td>16839.0</td>\n",
       "      <td>62600.0</td>\n",
       "      <td>12000.0</td>\n",
       "      <td>17500.0</td>\n",
       "      <td>62500.0</td>\n",
       "      <td>12500.0</td>\n",
       "      <td>17000.0</td>\n",
       "      <td>64000.0</td>\n",
       "      <td>12300.0</td>\n",
       "    </tr>\n",
       "    <tr>\n",
       "      <th>2018-09</th>\n",
       "      <td>16720.0</td>\n",
       "      <td>60000.0</td>\n",
       "      <td>11900.0</td>\n",
       "      <td>16900.0</td>\n",
       "      <td>62500.0</td>\n",
       "      <td>12500.0</td>\n",
       "      <td>16990.0</td>\n",
       "      <td>62550.0</td>\n",
       "      <td>12300.0</td>\n",
       "    </tr>\n",
       "  </tbody>\n",
       "</table>\n",
       "</div>"
      ],
      "text/plain": [
       "format       hypermarket                   minimarket                    \\\n",
       "sub_category   Detergent     Rice    Sugar  Detergent     Rice    Sugar   \n",
       "yearmonth                                                                 \n",
       "2017-10          17400.0  64000.0  12500.0    16800.0  62500.0  12500.0   \n",
       "2017-11          16770.0  64000.0  12400.0    16800.0  62500.0  12500.0   \n",
       "2017-12          17500.0  64000.0  12000.0    16600.0  62500.0  12500.0   \n",
       "2018-01          16800.0  64000.0  12275.0    16200.0  62500.0  12500.0   \n",
       "2018-02          17500.0  64000.0  11990.0    17000.0  63500.0  12500.0   \n",
       "2018-03          16900.0  64000.0  12000.0    16300.0  63500.0  12500.0   \n",
       "2018-04          16815.0  64000.0  11990.0    16800.0  63500.0  12500.0   \n",
       "2018-05          16950.0  64000.0  12000.0    16800.0  63000.0  12500.0   \n",
       "2018-06          16550.0  64000.0  12300.0    17300.0  63500.0  12500.0   \n",
       "2018-07          16550.0  64000.0  12325.0    16800.0  63500.0  12500.0   \n",
       "2018-08          16839.0  62600.0  12000.0    17500.0  62500.0  12500.0   \n",
       "2018-09          16720.0  60000.0  11900.0    16900.0  62500.0  12500.0   \n",
       "\n",
       "format       supermarket                    \n",
       "sub_category   Detergent     Rice    Sugar  \n",
       "yearmonth                                   \n",
       "2017-10          16925.0  64000.0  12500.0  \n",
       "2017-11          16500.0  64000.0  12400.0  \n",
       "2017-12          16600.0  64000.0  12400.0  \n",
       "2018-01          16700.0  64000.0  12400.0  \n",
       "2018-02          16200.0  64000.0  12290.0  \n",
       "2018-03          15680.0  64000.0  12400.0  \n",
       "2018-04          15700.0  64000.0  12400.0  \n",
       "2018-05          16700.0  64000.0  12400.0  \n",
       "2018-06          16700.0  64000.0  12400.0  \n",
       "2018-07          16600.0  64000.0  12300.0  \n",
       "2018-08          17000.0  64000.0  12300.0  \n",
       "2018-09          16990.0  62550.0  12300.0  "
      ]
     },
     "execution_count": 120,
     "metadata": {},
     "output_type": "execute_result"
    }
   ],
   "source": [
    "pd.pivot_table(\n",
    "    data=household,\n",
    "    index='yearmonth',\n",
    "    columns=['format','sub_category'],\n",
    "    values='unit_price',\n",
    "    aggfunc='median'\n",
    ")"
   ]
  },
  {
   "cell_type": "code",
   "execution_count": 122,
   "metadata": {},
   "outputs": [
    {
     "data": {
      "text/html": [
       "<div>\n",
       "<style scoped>\n",
       "    .dataframe tbody tr th:only-of-type {\n",
       "        vertical-align: middle;\n",
       "    }\n",
       "\n",
       "    .dataframe tbody tr th {\n",
       "        vertical-align: top;\n",
       "    }\n",
       "\n",
       "    .dataframe thead th {\n",
       "        text-align: right;\n",
       "    }\n",
       "</style>\n",
       "<table border=\"1\" class=\"dataframe\">\n",
       "  <thead>\n",
       "    <tr style=\"text-align: right;\">\n",
       "      <th>yearmonth</th>\n",
       "      <th>2017-10</th>\n",
       "      <th>2017-11</th>\n",
       "      <th>2017-12</th>\n",
       "      <th>2018-01</th>\n",
       "      <th>2018-02</th>\n",
       "      <th>2018-03</th>\n",
       "      <th>2018-04</th>\n",
       "      <th>2018-05</th>\n",
       "      <th>2018-06</th>\n",
       "      <th>2018-07</th>\n",
       "      <th>2018-08</th>\n",
       "      <th>2018-09</th>\n",
       "    </tr>\n",
       "    <tr>\n",
       "      <th>sub_category</th>\n",
       "      <th></th>\n",
       "      <th></th>\n",
       "      <th></th>\n",
       "      <th></th>\n",
       "      <th></th>\n",
       "      <th></th>\n",
       "      <th></th>\n",
       "      <th></th>\n",
       "      <th></th>\n",
       "      <th></th>\n",
       "      <th></th>\n",
       "      <th></th>\n",
       "    </tr>\n",
       "  </thead>\n",
       "  <tbody>\n",
       "    <tr>\n",
       "      <th>Detergent</th>\n",
       "      <td>1.355667</td>\n",
       "      <td>1.292333</td>\n",
       "      <td>1.323333</td>\n",
       "      <td>1.413667</td>\n",
       "      <td>1.426667</td>\n",
       "      <td>1.539667</td>\n",
       "      <td>1.471667</td>\n",
       "      <td>1.384333</td>\n",
       "      <td>1.345667</td>\n",
       "      <td>1.274667</td>\n",
       "      <td>1.366667</td>\n",
       "      <td>1.3590</td>\n",
       "    </tr>\n",
       "    <tr>\n",
       "      <th>Rice</th>\n",
       "      <td>1.422000</td>\n",
       "      <td>1.298000</td>\n",
       "      <td>1.277000</td>\n",
       "      <td>1.323000</td>\n",
       "      <td>1.353000</td>\n",
       "      <td>1.413000</td>\n",
       "      <td>1.363000</td>\n",
       "      <td>1.359000</td>\n",
       "      <td>1.358000</td>\n",
       "      <td>1.256000</td>\n",
       "      <td>1.269000</td>\n",
       "      <td>1.3040</td>\n",
       "    </tr>\n",
       "    <tr>\n",
       "      <th>Sugar</th>\n",
       "      <td>1.585500</td>\n",
       "      <td>1.590500</td>\n",
       "      <td>1.650000</td>\n",
       "      <td>1.606000</td>\n",
       "      <td>1.695500</td>\n",
       "      <td>1.849000</td>\n",
       "      <td>1.791000</td>\n",
       "      <td>1.920000</td>\n",
       "      <td>1.947500</td>\n",
       "      <td>1.581000</td>\n",
       "      <td>1.638000</td>\n",
       "      <td>1.7015</td>\n",
       "    </tr>\n",
       "  </tbody>\n",
       "</table>\n",
       "</div>"
      ],
      "text/plain": [
       "yearmonth      2017-10   2017-11   2017-12   2018-01   2018-02   2018-03  \\\n",
       "sub_category                                                               \n",
       "Detergent     1.355667  1.292333  1.323333  1.413667  1.426667  1.539667   \n",
       "Rice          1.422000  1.298000  1.277000  1.323000  1.353000  1.413000   \n",
       "Sugar         1.585500  1.590500  1.650000  1.606000  1.695500  1.849000   \n",
       "\n",
       "yearmonth      2018-04   2018-05   2018-06   2018-07   2018-08  2018-09  \n",
       "sub_category                                                             \n",
       "Detergent     1.471667  1.384333  1.345667  1.274667  1.366667   1.3590  \n",
       "Rice          1.363000  1.359000  1.358000  1.256000  1.269000   1.3040  \n",
       "Sugar         1.791000  1.920000  1.947500  1.581000  1.638000   1.7015  "
      ]
     },
     "execution_count": 122,
     "metadata": {},
     "output_type": "execute_result"
    }
   ],
   "source": [
    "pd.pivot_table(\n",
    "    data=household, \n",
    "    index='sub_category',\n",
    "    columns='yearmonth',\n",
    "    values='quantity'\n",
    ")"
   ]
  },
  {
   "cell_type": "markdown",
   "metadata": {},
   "source": [
    "A key difference between `crosstab` and `pivot_table` is that `crosstab` uses `len` as the default aggregation function while `pivot_table` using the mean. Copy the cdoe from the cell above and make a change: use `sum` as the aggregation function instead: "
   ]
  },
  {
   "cell_type": "code",
   "execution_count": 102,
   "metadata": {},
   "outputs": [],
   "source": [
    "## Your code below\n",
    "\n",
    "\n",
    "## -- Solution code"
   ]
  },
  {
   "cell_type": "markdown",
   "metadata": {},
   "source": [
    "## Working with Datetime\n",
    "\n",
    "Given the program's special emphasis on business-driven analytics, one data type of particular interest to us is the `datetime`. In the first part of this coursebook, we've seen an example of `datetime` in the section introducing data types (`employees.joined`).\n",
    "\n",
    "A large portion of data science work performed by business executives involve time series and/or dates (think about the kind of data science work done by computer vision researchers, or by credit rating analysts etc and this special relationship between business and datetime data becomes apparent), so adding a level of familiarity with this format will serve you well in the long run. \n",
    "\n",
    "As a start, let's take a look at the data types of our `DataFrame` again:"
   ]
  },
  {
   "cell_type": "code",
   "execution_count": 124,
   "metadata": {},
   "outputs": [
    {
     "data": {
      "text/plain": [
       "receipt_id            int64\n",
       "receipts_item_id      int64\n",
       "purchase_time        object\n",
       "category             object\n",
       "sub_category         object\n",
       "format               object\n",
       "unit_price          float64\n",
       "discount              int64\n",
       "quantity              int64\n",
       "yearmonth            object\n",
       "dtype: object"
      ]
     },
     "execution_count": 124,
     "metadata": {},
     "output_type": "execute_result"
    }
   ],
   "source": [
    "household.dtypes"
   ]
  },
  {
   "cell_type": "markdown",
   "metadata": {},
   "source": [
    "Notice that all columns are in the right data types, except for `purchase_time`. The correct data type for this column would have to be a `datetime`.\n",
    "\n",
    "To convert a column `x` to a datetime, we would use:\n",
    "\n",
    "    `x = pd.to_datetime(x)`\n",
    "    "
   ]
  },
  {
   "cell_type": "code",
   "execution_count": 130,
   "metadata": {},
   "outputs": [
    {
     "data": {
      "text/html": [
       "<div>\n",
       "<style scoped>\n",
       "    .dataframe tbody tr th:only-of-type {\n",
       "        vertical-align: middle;\n",
       "    }\n",
       "\n",
       "    .dataframe tbody tr th {\n",
       "        vertical-align: top;\n",
       "    }\n",
       "\n",
       "    .dataframe thead th {\n",
       "        text-align: right;\n",
       "    }\n",
       "</style>\n",
       "<table border=\"1\" class=\"dataframe\">\n",
       "  <thead>\n",
       "    <tr style=\"text-align: right;\">\n",
       "      <th></th>\n",
       "      <th>receipt_id</th>\n",
       "      <th>receipts_item_id</th>\n",
       "      <th>purchase_time</th>\n",
       "      <th>category</th>\n",
       "      <th>sub_category</th>\n",
       "      <th>format</th>\n",
       "      <th>unit_price</th>\n",
       "      <th>discount</th>\n",
       "      <th>quantity</th>\n",
       "      <th>yearmonth</th>\n",
       "    </tr>\n",
       "  </thead>\n",
       "  <tbody>\n",
       "    <tr>\n",
       "      <th>0</th>\n",
       "      <td>9622257</td>\n",
       "      <td>32369294</td>\n",
       "      <td>2018-07-22 21:19:00</td>\n",
       "      <td>Rice</td>\n",
       "      <td>Rice</td>\n",
       "      <td>supermarket</td>\n",
       "      <td>128000.0</td>\n",
       "      <td>0</td>\n",
       "      <td>1</td>\n",
       "      <td>2018-07</td>\n",
       "    </tr>\n",
       "    <tr>\n",
       "      <th>1</th>\n",
       "      <td>9446359</td>\n",
       "      <td>31885876</td>\n",
       "      <td>2018-07-15 16:17:00</td>\n",
       "      <td>Rice</td>\n",
       "      <td>Rice</td>\n",
       "      <td>minimarket</td>\n",
       "      <td>102750.0</td>\n",
       "      <td>0</td>\n",
       "      <td>1</td>\n",
       "      <td>2018-07</td>\n",
       "    </tr>\n",
       "    <tr>\n",
       "      <th>2</th>\n",
       "      <td>9470290</td>\n",
       "      <td>31930241</td>\n",
       "      <td>2018-07-15 12:12:00</td>\n",
       "      <td>Rice</td>\n",
       "      <td>Rice</td>\n",
       "      <td>supermarket</td>\n",
       "      <td>64000.0</td>\n",
       "      <td>0</td>\n",
       "      <td>3</td>\n",
       "      <td>2018-07</td>\n",
       "    </tr>\n",
       "    <tr>\n",
       "      <th>3</th>\n",
       "      <td>9643416</td>\n",
       "      <td>32418582</td>\n",
       "      <td>2018-07-24 08:27:00</td>\n",
       "      <td>Rice</td>\n",
       "      <td>Rice</td>\n",
       "      <td>minimarket</td>\n",
       "      <td>65000.0</td>\n",
       "      <td>0</td>\n",
       "      <td>1</td>\n",
       "      <td>2018-07</td>\n",
       "    </tr>\n",
       "    <tr>\n",
       "      <th>4</th>\n",
       "      <td>9692093</td>\n",
       "      <td>32561236</td>\n",
       "      <td>2018-07-26 11:28:00</td>\n",
       "      <td>Rice</td>\n",
       "      <td>Rice</td>\n",
       "      <td>supermarket</td>\n",
       "      <td>124500.0</td>\n",
       "      <td>0</td>\n",
       "      <td>1</td>\n",
       "      <td>2018-07</td>\n",
       "    </tr>\n",
       "  </tbody>\n",
       "</table>\n",
       "</div>"
      ],
      "text/plain": [
       "   receipt_id  receipts_item_id       purchase_time category sub_category  \\\n",
       "0     9622257          32369294 2018-07-22 21:19:00     Rice         Rice   \n",
       "1     9446359          31885876 2018-07-15 16:17:00     Rice         Rice   \n",
       "2     9470290          31930241 2018-07-15 12:12:00     Rice         Rice   \n",
       "3     9643416          32418582 2018-07-24 08:27:00     Rice         Rice   \n",
       "4     9692093          32561236 2018-07-26 11:28:00     Rice         Rice   \n",
       "\n",
       "        format  unit_price  discount  quantity yearmonth  \n",
       "0  supermarket    128000.0         0         1   2018-07  \n",
       "1   minimarket    102750.0         0         1   2018-07  \n",
       "2  supermarket     64000.0         0         3   2018-07  \n",
       "3   minimarket     65000.0         0         1   2018-07  \n",
       "4  supermarket    124500.0         0         1   2018-07  "
      ]
     },
     "execution_count": 130,
     "metadata": {},
     "output_type": "execute_result"
    }
   ],
   "source": [
    "household['purchase_time'] = pd.to_datetime(household['purchase_time'])\n",
    "household.head()"
   ]
  },
  {
   "cell_type": "markdown",
   "metadata": {},
   "source": [
    "In fact, `pandas` has a number of machineries to work with `datetime` objects. These are convenient for when we need to extract the `month`, or `year`, or `weekday_name` from `datetime`. Some common applications in business analysis include:\n",
    "\n",
    "- `household['purchase_time'].dt.month`\n",
    "- `household['purchase_time'].dt.year`\n",
    "- `household['purchase_time'].dt.day`\n",
    "- `household['purchase_time'].dt.dayofweek`\n",
    "- `household['purchase_time'].dt.hour`\n",
    "- `household['purchase_time'].dt.weekday_name.head()`"
   ]
  },
  {
   "cell_type": "markdown",
   "metadata": {},
   "source": [
    "### Knowledge Check\n",
    "_Est. Time required: 20 minutes_\n",
    "\n",
    "1. In the following cell, start again by reading in the `household.csv` dataset \n",
    "2. Convert `purchase_time` to `datetime`. Use `.to_datetime()` for this.\n",
    "3. Use `x.dt.weekday_name`, assuming `x` is a datetime object to get the day of week\n",
    "4. Print the first 5 rows of your data to verify that your preprocessing steps are correct"
   ]
  },
  {
   "cell_type": "code",
   "execution_count": 155,
   "metadata": {},
   "outputs": [],
   "source": [
    "## Your code below\n",
    "\n",
    "\n",
    "## -- Solution code"
   ]
  },
  {
   "cell_type": "markdown",
   "metadata": {},
   "source": [
    "Tips: In the cell above, start from:\n",
    "\n",
    "`household = pd.read_csv(\"data_input/household.csv\")`\n",
    "\n",
    "Inspect the first 5 rows of your data and pay close attention to the `weekday` column. \n",
    "\n",
    "Bonus challenge: How many transactions happen on each day of the week? Use `pd.crosstab` or `x.value_counts()`."
   ]
  },
  {
   "cell_type": "code",
   "execution_count": 162,
   "metadata": {},
   "outputs": [],
   "source": [
    "## Your code below\n",
    "\n",
    "\n",
    "## -- Solution code"
   ]
  },
  {
   "cell_type": "markdown",
   "metadata": {},
   "source": [
    "There are also other functions that can be helpful in certain situations. Supposed we want to transform the existing `datetime` column into values of periods we can use the `.to_period` method:\n",
    "\n",
    "- `household['purchase_time'].dt.to_period('D')`\n",
    "- `household['purchase_time'].dt.to_period('W')`\n",
    "- `household['purchase_time'].dt.to_period('M')`\n",
    "- `household['purchase_time'].dt.to_period('Q')`"
   ]
  },
  {
   "cell_type": "markdown",
   "metadata": {},
   "source": [
    "If you've managed the above exercises, well done! Run the following cell anyway to make sure we're at the same starting point as we go into the next chapter of working with categorical data (factors). "
   ]
  },
  {
   "cell_type": "code",
   "execution_count": 242,
   "metadata": {},
   "outputs": [
    {
     "data": {
      "text/html": [
       "<div>\n",
       "<style scoped>\n",
       "    .dataframe tbody tr th:only-of-type {\n",
       "        vertical-align: middle;\n",
       "    }\n",
       "\n",
       "    .dataframe tbody tr th {\n",
       "        vertical-align: top;\n",
       "    }\n",
       "\n",
       "    .dataframe thead th {\n",
       "        text-align: right;\n",
       "    }\n",
       "</style>\n",
       "<table border=\"1\" class=\"dataframe\">\n",
       "  <thead>\n",
       "    <tr style=\"text-align: right;\">\n",
       "      <th>col_0</th>\n",
       "      <th>count</th>\n",
       "    </tr>\n",
       "    <tr>\n",
       "      <th>weekday</th>\n",
       "      <th></th>\n",
       "    </tr>\n",
       "  </thead>\n",
       "  <tbody>\n",
       "    <tr>\n",
       "      <th>Friday</th>\n",
       "      <td>10778</td>\n",
       "    </tr>\n",
       "    <tr>\n",
       "      <th>Monday</th>\n",
       "      <td>9050</td>\n",
       "    </tr>\n",
       "    <tr>\n",
       "      <th>Saturday</th>\n",
       "      <td>11828</td>\n",
       "    </tr>\n",
       "    <tr>\n",
       "      <th>Sunday</th>\n",
       "      <td>12573</td>\n",
       "    </tr>\n",
       "    <tr>\n",
       "      <th>Thursday</th>\n",
       "      <td>9138</td>\n",
       "    </tr>\n",
       "    <tr>\n",
       "      <th>Tuesday</th>\n",
       "      <td>9427</td>\n",
       "    </tr>\n",
       "    <tr>\n",
       "      <th>Wednesday</th>\n",
       "      <td>9206</td>\n",
       "    </tr>\n",
       "  </tbody>\n",
       "</table>\n",
       "</div>"
      ],
      "text/plain": [
       "col_0      count\n",
       "weekday         \n",
       "Friday     10778\n",
       "Monday      9050\n",
       "Saturday   11828\n",
       "Sunday     12573\n",
       "Thursday    9138\n",
       "Tuesday     9427\n",
       "Wednesday   9206"
      ]
     },
     "execution_count": 242,
     "metadata": {},
     "output_type": "execute_result"
    }
   ],
   "source": [
    "# Reference answer for Knowledge Check\n",
    "household = pd.read_csv(\"data_input/household.csv\", index_col=1, parse_dates=['purchase_time'])\n",
    "household.drop(['receipt_id', 'yearmonth', 'sub_category'], axis=1, inplace=True)\n",
    "household['weekday'] = household['purchase_time'].dt.weekday_name\n",
    "pd.crosstab(index=household['weekday'], columns='count')"
   ]
  },
  {
   "cell_type": "markdown",
   "metadata": {},
   "source": [
    "## Working with Categories\n",
    "\n",
    "The official documentation from `pandas` describe the `category` data type as a tool to \"represent a categorical variable in classic R fashion\".\n",
    "\n",
    "When working with categories, it is recommended both from a business point of a view and a technical one to use `pandas` categorical data type. From a business perspective, this adds clarity to the analyst's mind about the type of data he/she is working with. This informs and guides the analysis, on questions such as which statistical methods or plot types to use.\n",
    "\n",
    "From a technical viewpoint, the memory savings -- and in turn, computation speed as well as computational resources -- can be quite significant. Specifically, the docs remarked:\n",
    "\n",
    "> The memory usage of a `Categorical` is proportional to the number of categories plus the length of the data. In contrast, an `object` dtype is a constant times the length of the data"
   ]
  },
  {
   "cell_type": "code",
   "execution_count": 243,
   "metadata": {},
   "outputs": [
    {
     "data": {
      "text/plain": [
       "purchase_time    datetime64[ns]\n",
       "category                 object\n",
       "format                   object\n",
       "unit_price              float64\n",
       "discount                  int64\n",
       "quantity                  int64\n",
       "weekday                  object\n",
       "dtype: object"
      ]
     },
     "execution_count": 243,
     "metadata": {},
     "output_type": "execute_result"
    }
   ],
   "source": [
    "household.dtypes"
   ]
  },
  {
   "cell_type": "markdown",
   "metadata": {},
   "source": [
    "From the output of `dtypes`, we see that there are three variables currently stored as `object` type where a `category` is more appropriate. This is a common diagnostic step, and one that you will employ in almost every data analysis project. \n",
    "\n",
    "We'll convert the `weekday` column to a categorical type using `.astype()`. `astype('int64')` converts a Series to an integer type, and `.astype(category)` logically, converts a Series to a categorical.\n",
    "\n",
    "By default, `.astype()` will raise an error if the conversion is not successful (we call them \"exceptions\"). In an analysis-driven environment, this is what we usually prefer. However, in certain production settings, you don't want the exception to be raised and rather return the original object."
   ]
  },
  {
   "cell_type": "code",
   "execution_count": 234,
   "metadata": {},
   "outputs": [
    {
     "data": {
      "text/plain": [
       "purchase_time    datetime64[ns]\n",
       "category                 object\n",
       "format                   object\n",
       "unit_price              float64\n",
       "discount                  int64\n",
       "quantity                  int64\n",
       "weekday                category\n",
       "dtype: object"
      ]
     },
     "execution_count": 234,
     "metadata": {},
     "output_type": "execute_result"
    }
   ],
   "source": [
    "household['weekday'] = household['weekday'].astype('category', errors='raise')\n",
    "household.dtypes"
   ]
  },
  {
   "cell_type": "markdown",
   "metadata": {},
   "source": [
    "Go ahead and perform the other conversions in the following cell. When you're done, use `dtypes` to check that you have the categorical columns stored as `category`."
   ]
  },
  {
   "cell_type": "code",
   "execution_count": 233,
   "metadata": {},
   "outputs": [],
   "source": [
    "## Your code below\n",
    "\n",
    "\n",
    "## -- Solution code"
   ]
  },
  {
   "cell_type": "markdown",
   "metadata": {},
   "source": [
    "### Alternative Solutions (optional)"
   ]
  },
  {
   "cell_type": "code",
   "execution_count": 235,
   "metadata": {},
   "outputs": [
    {
     "data": {
      "text/html": [
       "<div>\n",
       "<style scoped>\n",
       "    .dataframe tbody tr th:only-of-type {\n",
       "        vertical-align: middle;\n",
       "    }\n",
       "\n",
       "    .dataframe tbody tr th {\n",
       "        vertical-align: top;\n",
       "    }\n",
       "\n",
       "    .dataframe thead th {\n",
       "        text-align: right;\n",
       "    }\n",
       "</style>\n",
       "<table border=\"1\" class=\"dataframe\">\n",
       "  <thead>\n",
       "    <tr style=\"text-align: right;\">\n",
       "      <th></th>\n",
       "      <th>purchase_time</th>\n",
       "      <th>unit_price</th>\n",
       "      <th>discount</th>\n",
       "      <th>quantity</th>\n",
       "      <th>weekday</th>\n",
       "    </tr>\n",
       "    <tr>\n",
       "      <th>receipts_item_id</th>\n",
       "      <th></th>\n",
       "      <th></th>\n",
       "      <th></th>\n",
       "      <th></th>\n",
       "      <th></th>\n",
       "    </tr>\n",
       "  </thead>\n",
       "  <tbody>\n",
       "    <tr>\n",
       "      <th>32369294</th>\n",
       "      <td>2018-07-22 21:19:00</td>\n",
       "      <td>128000.0</td>\n",
       "      <td>0</td>\n",
       "      <td>1</td>\n",
       "      <td>Sunday</td>\n",
       "    </tr>\n",
       "    <tr>\n",
       "      <th>31885876</th>\n",
       "      <td>2018-07-15 16:17:00</td>\n",
       "      <td>102750.0</td>\n",
       "      <td>0</td>\n",
       "      <td>1</td>\n",
       "      <td>Sunday</td>\n",
       "    </tr>\n",
       "    <tr>\n",
       "      <th>31930241</th>\n",
       "      <td>2018-07-15 12:12:00</td>\n",
       "      <td>64000.0</td>\n",
       "      <td>0</td>\n",
       "      <td>3</td>\n",
       "      <td>Sunday</td>\n",
       "    </tr>\n",
       "    <tr>\n",
       "      <th>32418582</th>\n",
       "      <td>2018-07-24 08:27:00</td>\n",
       "      <td>65000.0</td>\n",
       "      <td>0</td>\n",
       "      <td>1</td>\n",
       "      <td>Tuesday</td>\n",
       "    </tr>\n",
       "    <tr>\n",
       "      <th>32561236</th>\n",
       "      <td>2018-07-26 11:28:00</td>\n",
       "      <td>124500.0</td>\n",
       "      <td>0</td>\n",
       "      <td>1</td>\n",
       "      <td>Thursday</td>\n",
       "    </tr>\n",
       "  </tbody>\n",
       "</table>\n",
       "</div>"
      ],
      "text/plain": [
       "                       purchase_time  unit_price  discount  quantity   weekday\n",
       "receipts_item_id                                                              \n",
       "32369294         2018-07-22 21:19:00    128000.0         0         1    Sunday\n",
       "31885876         2018-07-15 16:17:00    102750.0         0         1    Sunday\n",
       "31930241         2018-07-15 12:12:00     64000.0         0         3    Sunday\n",
       "32418582         2018-07-24 08:27:00     65000.0         0         1   Tuesday\n",
       "32561236         2018-07-26 11:28:00    124500.0         0         1  Thursday"
      ]
     },
     "execution_count": 235,
     "metadata": {},
     "output_type": "execute_result"
    }
   ],
   "source": [
    "household.select_dtypes(exclude='object').head()"
   ]
  },
  {
   "cell_type": "code",
   "execution_count": 222,
   "metadata": {
    "scrolled": true
   },
   "outputs": [
    {
     "data": {
      "text/plain": [
       "purchase_time    datetime64[ns]\n",
       "unit_price              float64\n",
       "discount                  int64\n",
       "quantity                  int64\n",
       "category               category\n",
       "format                 category\n",
       "weekday                category\n",
       "dtype: object"
      ]
     },
     "execution_count": 222,
     "metadata": {},
     "output_type": "execute_result"
    }
   ],
   "source": [
    "pd.concat([\n",
    "    household.select_dtypes(exclude='object'),\n",
    "    household.select_dtypes(include='object').apply(\n",
    "        pd.Series.astype, dtype='category'\n",
    "    )\n",
    "], axis=1).dtypes"
   ]
  },
  {
   "cell_type": "code",
   "execution_count": 244,
   "metadata": {
    "scrolled": true
   },
   "outputs": [
    {
     "data": {
      "text/html": [
       "<div>\n",
       "<style scoped>\n",
       "    .dataframe tbody tr th:only-of-type {\n",
       "        vertical-align: middle;\n",
       "    }\n",
       "\n",
       "    .dataframe tbody tr th {\n",
       "        vertical-align: top;\n",
       "    }\n",
       "\n",
       "    .dataframe thead th {\n",
       "        text-align: right;\n",
       "    }\n",
       "</style>\n",
       "<table border=\"1\" class=\"dataframe\">\n",
       "  <thead>\n",
       "    <tr style=\"text-align: right;\">\n",
       "      <th></th>\n",
       "      <th>purchase_time</th>\n",
       "      <th>category</th>\n",
       "      <th>format</th>\n",
       "      <th>unit_price</th>\n",
       "      <th>discount</th>\n",
       "      <th>quantity</th>\n",
       "      <th>weekday</th>\n",
       "    </tr>\n",
       "    <tr>\n",
       "      <th>receipts_item_id</th>\n",
       "      <th></th>\n",
       "      <th></th>\n",
       "      <th></th>\n",
       "      <th></th>\n",
       "      <th></th>\n",
       "      <th></th>\n",
       "      <th></th>\n",
       "    </tr>\n",
       "  </thead>\n",
       "  <tbody>\n",
       "    <tr>\n",
       "      <th>32369294</th>\n",
       "      <td>2018-07-22 21:19:00</td>\n",
       "      <td>Rice</td>\n",
       "      <td>supermarket</td>\n",
       "      <td>128000.0</td>\n",
       "      <td>0</td>\n",
       "      <td>1</td>\n",
       "      <td>Sunday</td>\n",
       "    </tr>\n",
       "    <tr>\n",
       "      <th>31885876</th>\n",
       "      <td>2018-07-15 16:17:00</td>\n",
       "      <td>Rice</td>\n",
       "      <td>minimarket</td>\n",
       "      <td>102750.0</td>\n",
       "      <td>0</td>\n",
       "      <td>1</td>\n",
       "      <td>Sunday</td>\n",
       "    </tr>\n",
       "    <tr>\n",
       "      <th>31930241</th>\n",
       "      <td>2018-07-15 12:12:00</td>\n",
       "      <td>Rice</td>\n",
       "      <td>supermarket</td>\n",
       "      <td>64000.0</td>\n",
       "      <td>0</td>\n",
       "      <td>3</td>\n",
       "      <td>Sunday</td>\n",
       "    </tr>\n",
       "    <tr>\n",
       "      <th>32418582</th>\n",
       "      <td>2018-07-24 08:27:00</td>\n",
       "      <td>Rice</td>\n",
       "      <td>minimarket</td>\n",
       "      <td>65000.0</td>\n",
       "      <td>0</td>\n",
       "      <td>1</td>\n",
       "      <td>Tuesday</td>\n",
       "    </tr>\n",
       "    <tr>\n",
       "      <th>32561236</th>\n",
       "      <td>2018-07-26 11:28:00</td>\n",
       "      <td>Rice</td>\n",
       "      <td>supermarket</td>\n",
       "      <td>124500.0</td>\n",
       "      <td>0</td>\n",
       "      <td>1</td>\n",
       "      <td>Thursday</td>\n",
       "    </tr>\n",
       "  </tbody>\n",
       "</table>\n",
       "</div>"
      ],
      "text/plain": [
       "                       purchase_time category       format  unit_price  \\\n",
       "receipts_item_id                                                         \n",
       "32369294         2018-07-22 21:19:00     Rice  supermarket    128000.0   \n",
       "31885876         2018-07-15 16:17:00     Rice   minimarket    102750.0   \n",
       "31930241         2018-07-15 12:12:00     Rice  supermarket     64000.0   \n",
       "32418582         2018-07-24 08:27:00     Rice   minimarket     65000.0   \n",
       "32561236         2018-07-26 11:28:00     Rice  supermarket    124500.0   \n",
       "\n",
       "                  discount  quantity   weekday  \n",
       "receipts_item_id                                \n",
       "32369294                 0         1    Sunday  \n",
       "31885876                 0         1    Sunday  \n",
       "31930241                 0         3    Sunday  \n",
       "32418582                 0         1   Tuesday  \n",
       "32561236                 0         1  Thursday  "
      ]
     },
     "execution_count": 244,
     "metadata": {},
     "output_type": "execute_result"
    }
   ],
   "source": [
    "objectcols = household.select_dtypes(include='object')\n",
    "household[objectcols.columns] = objectcols.apply(lambda x: x.astype('category'))\n",
    "household.head()"
   ]
  },
  {
   "cell_type": "code",
   "execution_count": 245,
   "metadata": {},
   "outputs": [
    {
     "data": {
      "text/plain": [
       "purchase_time    datetime64[ns]\n",
       "category               category\n",
       "format                 category\n",
       "unit_price              float64\n",
       "discount                  int64\n",
       "quantity                  int64\n",
       "weekday                category\n",
       "dtype: object"
      ]
     },
     "execution_count": 245,
     "metadata": {},
     "output_type": "execute_result"
    }
   ],
   "source": [
    "household.dtypes"
   ]
  },
  {
   "cell_type": "markdown",
   "metadata": {},
   "source": [
    "## Missing Values and Duplicates"
   ]
  },
  {
   "cell_type": "code",
   "execution_count": 240,
   "metadata": {},
   "outputs": [
    {
     "data": {
      "text/plain": [
       "(72000, 7)"
      ]
     },
     "execution_count": 240,
     "metadata": {},
     "output_type": "execute_result"
    }
   ],
   "source": [
    "household.shape"
   ]
  },
  {
   "cell_type": "code",
   "execution_count": 241,
   "metadata": {},
   "outputs": [
    {
     "data": {
      "text/plain": [
       "(71475, 7)"
      ]
     },
     "execution_count": 241,
     "metadata": {},
     "output_type": "execute_result"
    }
   ],
   "source": [
    "household.drop_duplicates().shape"
   ]
  },
  {
   "cell_type": "markdown",
   "metadata": {},
   "source": [
    "## Renaming Index or Columns"
   ]
  },
  {
   "cell_type": "markdown",
   "metadata": {},
   "source": [
    "# Learn "
   ]
  },
  {
   "cell_type": "code",
   "execution_count": null,
   "metadata": {},
   "outputs": [],
   "source": []
  }
 ],
 "metadata": {
  "kernelspec": {
   "display_name": "Python 3",
   "language": "python",
   "name": "python3"
  },
  "language_info": {
   "codemirror_mode": {
    "name": "ipython",
    "version": 3
   },
   "file_extension": ".py",
   "mimetype": "text/x-python",
   "name": "python",
   "nbconvert_exporter": "python",
   "pygments_lexer": "ipython3",
   "version": "3.7.2"
  },
  "toc": {
   "base_numbering": 1,
   "nav_menu": {},
   "number_sections": true,
   "sideBar": true,
   "skip_h1_title": false,
   "title_cell": "Table of Contents",
   "title_sidebar": "Contents",
   "toc_cell": false,
   "toc_position": {},
   "toc_section_display": true,
   "toc_window_display": false
  }
 },
 "nbformat": 4,
 "nbformat_minor": 2
}
